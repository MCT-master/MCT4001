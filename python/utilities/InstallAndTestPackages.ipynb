{
 "cells": [
  {
   "cell_type": "code",
   "execution_count": 1,
   "metadata": {},
   "outputs": [
    {
     "name": "stdout",
     "output_type": "stream",
     "text": [
      "Requirement already satisfied: numpy in /Users/stefanof/opt/anaconda3/lib/python3.9/site-packages (from -r requirements.txt (line 1)) (1.21.5)\n",
      "Requirement already satisfied: pandas in /Users/stefanof/opt/anaconda3/lib/python3.9/site-packages (from -r requirements.txt (line 2)) (1.4.3)\n",
      "Requirement already satisfied: matplotlib in /Users/stefanof/opt/anaconda3/lib/python3.9/site-packages (from -r requirements.txt (line 3)) (3.5.2)\n",
      "Requirement already satisfied: scipy in /Users/stefanof/opt/anaconda3/lib/python3.9/site-packages (from -r requirements.txt (line 4)) (1.7.3)\n",
      "Collecting librosa\n",
      "  Downloading librosa-0.9.2-py3-none-any.whl (214 kB)\n",
      "\u001b[2K     \u001b[90m━━━━━━━━━━━━━━━━━━━━━━━━━━━━━━━━━━━━━\u001b[0m \u001b[32m214.3/214.3 kB\u001b[0m \u001b[31m973.2 kB/s\u001b[0m eta \u001b[36m0:00:00\u001b[0ma \u001b[36m0:00:01\u001b[0m\n",
      "\u001b[?25hCollecting pretty_midi\n",
      "  Using cached pretty_midi-0.2.9-py3-none-any.whl\n",
      "Collecting python-osc\n",
      "  Using cached python_osc-1.8.0-py3-none-any.whl (32 kB)\n",
      "Collecting mir_eval\n",
      "  Downloading mir_eval-0.7.tar.gz (90 kB)\n",
      "\u001b[2K     \u001b[90m━━━━━━━━━━━━━━━━━━━━━━━━━━━━━━━━━━━━━━━━\u001b[0m \u001b[32m90.7/90.7 kB\u001b[0m \u001b[31m1.0 MB/s\u001b[0m eta \u001b[36m0:00:00\u001b[0ma \u001b[36m0:00:01\u001b[0m\n",
      "\u001b[?25h  Preparing metadata (setup.py) ... \u001b[?25ldone\n",
      "\u001b[?25hRequirement already satisfied: openpyxl in /Users/stefanof/opt/anaconda3/lib/python3.9/site-packages (from -r requirements.txt (line 9)) (3.0.9)\n",
      "Requirement already satisfied: python-dateutil>=2.8.1 in /Users/stefanof/opt/anaconda3/lib/python3.9/site-packages (from pandas->-r requirements.txt (line 2)) (2.8.2)\n",
      "Requirement already satisfied: pytz>=2020.1 in /Users/stefanof/opt/anaconda3/lib/python3.9/site-packages (from pandas->-r requirements.txt (line 2)) (2022.1)\n",
      "Requirement already satisfied: pillow>=6.2.0 in /Users/stefanof/opt/anaconda3/lib/python3.9/site-packages (from matplotlib->-r requirements.txt (line 3)) (9.2.0)\n",
      "Requirement already satisfied: fonttools>=4.22.0 in /Users/stefanof/opt/anaconda3/lib/python3.9/site-packages (from matplotlib->-r requirements.txt (line 3)) (4.34.4)\n",
      "Requirement already satisfied: pyparsing>=2.2.1 in /Users/stefanof/opt/anaconda3/lib/python3.9/site-packages (from matplotlib->-r requirements.txt (line 3)) (3.0.9)\n",
      "Requirement already satisfied: cycler>=0.10 in /Users/stefanof/opt/anaconda3/lib/python3.9/site-packages (from matplotlib->-r requirements.txt (line 3)) (0.11.0)\n",
      "Requirement already satisfied: packaging>=20.0 in /Users/stefanof/opt/anaconda3/lib/python3.9/site-packages (from matplotlib->-r requirements.txt (line 3)) (21.3)\n",
      "Requirement already satisfied: kiwisolver>=1.0.1 in /Users/stefanof/opt/anaconda3/lib/python3.9/site-packages (from matplotlib->-r requirements.txt (line 3)) (1.4.4)\n",
      "Collecting soundfile>=0.10.2\n",
      "  Using cached SoundFile-0.10.3.post1-py2.py3.cp26.cp27.cp32.cp33.cp34.cp35.cp36.pp27.pp32.pp33-none-macosx_10_5_x86_64.macosx_10_6_intel.macosx_10_9_intel.macosx_10_9_x86_64.whl (613 kB)\n",
      "Collecting pooch>=1.0\n",
      "  Using cached pooch-1.6.0-py3-none-any.whl (56 kB)\n",
      "Requirement already satisfied: joblib>=0.14 in /Users/stefanof/opt/anaconda3/lib/python3.9/site-packages (from librosa->-r requirements.txt (line 5)) (1.1.0)\n",
      "Collecting resampy>=0.2.2\n",
      "  Downloading resampy-0.4.0-py3-none-any.whl (3.1 MB)\n",
      "\u001b[2K     \u001b[90m━━━━━━━━━━━━━━━━━━━━━━━━━━━━━━━━━━━━━━━━\u001b[0m \u001b[32m3.1/3.1 MB\u001b[0m \u001b[31m1.3 MB/s\u001b[0m eta \u001b[36m0:00:00\u001b[0m00:01\u001b[0m00:01\u001b[0m0m\n",
      "\u001b[?25hCollecting audioread>=2.1.9\n",
      "  Downloading audioread-3.0.0.tar.gz (377 kB)\n",
      "\u001b[2K     \u001b[90m━━━━━━━━━━━━━━━━━━━━━━━━━━━━━━━━━━━━━━━\u001b[0m \u001b[32m377.0/377.0 kB\u001b[0m \u001b[31m1.2 MB/s\u001b[0m eta \u001b[36m0:00:00\u001b[0m00:01\u001b[0m00:01\u001b[0m\n",
      "\u001b[?25h  Preparing metadata (setup.py) ... \u001b[?25ldone\n",
      "\u001b[?25hRequirement already satisfied: decorator>=4.0.10 in /Users/stefanof/opt/anaconda3/lib/python3.9/site-packages (from librosa->-r requirements.txt (line 5)) (5.1.1)\n",
      "Requirement already satisfied: scikit-learn>=0.19.1 in /Users/stefanof/opt/anaconda3/lib/python3.9/site-packages (from librosa->-r requirements.txt (line 5)) (1.1.1)\n",
      "Requirement already satisfied: numba>=0.45.1 in /Users/stefanof/opt/anaconda3/lib/python3.9/site-packages (from librosa->-r requirements.txt (line 5)) (0.55.2)\n",
      "Requirement already satisfied: six in /Users/stefanof/opt/anaconda3/lib/python3.9/site-packages (from pretty_midi->-r requirements.txt (line 6)) (1.16.0)\n",
      "Collecting mido>=1.1.16\n",
      "  Using cached mido-1.2.10-py2.py3-none-any.whl (51 kB)\n",
      "Requirement already satisfied: future in /Users/stefanof/opt/anaconda3/lib/python3.9/site-packages (from mir_eval->-r requirements.txt (line 8)) (0.18.2)\n",
      "Requirement already satisfied: et-xmlfile in /Users/stefanof/opt/anaconda3/lib/python3.9/site-packages (from openpyxl->-r requirements.txt (line 9)) (1.0.1)\n",
      "Requirement already satisfied: llvmlite<0.39,>=0.38.0rc1 in /Users/stefanof/opt/anaconda3/lib/python3.9/site-packages (from numba>=0.45.1->librosa->-r requirements.txt (line 5)) (0.38.1)\n",
      "Requirement already satisfied: setuptools in /Users/stefanof/opt/anaconda3/lib/python3.9/site-packages (from numba>=0.45.1->librosa->-r requirements.txt (line 5)) (63.3.0)\n",
      "Requirement already satisfied: appdirs>=1.3.0 in /Users/stefanof/opt/anaconda3/lib/python3.9/site-packages (from pooch>=1.0->librosa->-r requirements.txt (line 5)) (1.4.4)\n",
      "Requirement already satisfied: requests>=2.19.0 in /Users/stefanof/opt/anaconda3/lib/python3.9/site-packages (from pooch>=1.0->librosa->-r requirements.txt (line 5)) (2.28.1)\n",
      "Requirement already satisfied: threadpoolctl>=2.0.0 in /Users/stefanof/opt/anaconda3/lib/python3.9/site-packages (from scikit-learn>=0.19.1->librosa->-r requirements.txt (line 5)) (3.1.0)\n",
      "Requirement already satisfied: cffi>=1.0 in /Users/stefanof/opt/anaconda3/lib/python3.9/site-packages (from soundfile>=0.10.2->librosa->-r requirements.txt (line 5)) (1.15.1)\n",
      "Requirement already satisfied: pycparser in /Users/stefanof/opt/anaconda3/lib/python3.9/site-packages (from cffi>=1.0->soundfile>=0.10.2->librosa->-r requirements.txt (line 5)) (2.21)\n",
      "Requirement already satisfied: charset-normalizer<3,>=2 in /Users/stefanof/opt/anaconda3/lib/python3.9/site-packages (from requests>=2.19.0->pooch>=1.0->librosa->-r requirements.txt (line 5)) (2.1.0)\n",
      "Requirement already satisfied: certifi>=2017.4.17 in /Users/stefanof/opt/anaconda3/lib/python3.9/site-packages (from requests>=2.19.0->pooch>=1.0->librosa->-r requirements.txt (line 5)) (2022.6.15)\n",
      "Requirement already satisfied: idna<4,>=2.5 in /Users/stefanof/opt/anaconda3/lib/python3.9/site-packages (from requests>=2.19.0->pooch>=1.0->librosa->-r requirements.txt (line 5)) (3.3)\n",
      "Requirement already satisfied: urllib3<1.27,>=1.21.1 in /Users/stefanof/opt/anaconda3/lib/python3.9/site-packages (from requests>=2.19.0->pooch>=1.0->librosa->-r requirements.txt (line 5)) (1.26.11)\n",
      "Building wheels for collected packages: mir_eval, audioread\n",
      "  Building wheel for mir_eval (setup.py) ... \u001b[?25ldone\n",
      "\u001b[?25h  Created wheel for mir_eval: filename=mir_eval-0.7-py3-none-any.whl size=100707 sha256=c304690e8141e2a889604ecab38d79efefc3a06243b7b230fa82d5a22e637e7c\n",
      "  Stored in directory: /Users/stefanof/Library/Caches/pip/wheels/e9/f5/d5/eb3db1d056253da195208853842bce745a84b29f44cab59b6c\n",
      "  Building wheel for audioread (setup.py) ... \u001b[?25ldone\n",
      "\u001b[?25h  Created wheel for audioread: filename=audioread-3.0.0-py3-none-any.whl size=23703 sha256=fdfc802a9474eaa8732cf35de1ec71c05dfdadbcec22b7974c7b109995c1310b\n",
      "  Stored in directory: /Users/stefanof/Library/Caches/pip/wheels/e4/76/a4/cfb55573167a1f5bde7d7a348e95e509c64b2c3e8f921932c3\n",
      "Successfully built mir_eval audioread\n",
      "Installing collected packages: python-osc, mido, pretty_midi, audioread, soundfile, resampy, pooch, mir_eval, librosa\n",
      "Successfully installed audioread-3.0.0 librosa-0.9.2 mido-1.2.10 mir_eval-0.7 pooch-1.6.0 pretty_midi-0.2.9 python-osc-1.8.0 resampy-0.4.0 soundfile-0.10.3.post1\n"
     ]
    }
   ],
   "source": [
    "import sys\n",
    "!{sys.executable} -m pip install -r requirements.txt"
   ]
  },
  {
   "cell_type": "code",
   "execution_count": 2,
   "metadata": {},
   "outputs": [
    {
     "name": "stdout",
     "output_type": "stream",
     "text": [
      "Success\n"
     ]
    }
   ],
   "source": [
    "import os\n",
    "import numpy\n",
    "import pandas\n",
    "import matplotlib\n",
    "import scipy\n",
    "import librosa\n",
    "import pretty_midi\n",
    "import pythonosc \n",
    "\n",
    "print(bytearray.fromhex(\"53756363657373\").decode())"
   ]
  },
  {
   "cell_type": "code",
   "execution_count": null,
   "metadata": {},
   "outputs": [],
   "source": []
  }
 ],
 "metadata": {
  "kernelspec": {
   "display_name": "Python 3 (ipykernel)",
   "language": "python",
   "name": "python3"
  },
  "language_info": {
   "codemirror_mode": {
    "name": "ipython",
    "version": 3
   },
   "file_extension": ".py",
   "mimetype": "text/x-python",
   "name": "python",
   "nbconvert_exporter": "python",
   "pygments_lexer": "ipython3",
   "version": "3.9.13"
  }
 },
 "nbformat": 4,
 "nbformat_minor": 4
}
