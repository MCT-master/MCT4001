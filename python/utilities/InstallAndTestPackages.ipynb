{
 "cells": [
  {
   "cell_type": "code",
   "execution_count": 1,
   "metadata": {},
   "outputs": [
    {
     "name": "stdout",
     "output_type": "stream",
     "text": [
      "Collecting numpy\n",
      "  Downloading numpy-1.21.1-cp38-cp38-macosx_10_9_x86_64.whl (16.9 MB)\n",
      "\u001b[K     |████████████████████████████████| 16.9 MB 4.0 MB/s eta 0:00:01    |███████████████▋                | 8.3 MB 6.9 MB/s eta 0:00:02     |███████████████████             | 10.1 MB 6.9 MB/s eta 0:00:01\n",
      "\u001b[?25hCollecting pandas\n",
      "  Downloading pandas-1.3.1-cp38-cp38-macosx_10_9_x86_64.whl (11.1 MB)\n",
      "\u001b[K     |████████████████████████████████| 11.1 MB 9.4 MB/s eta 0:00:01    |█████▍                          | 1.9 MB 9.4 MB/s eta 0:00:01\n",
      "\u001b[?25hCollecting matplotlib\n",
      "  Using cached matplotlib-3.4.2-cp38-cp38-macosx_10_9_x86_64.whl (7.2 MB)\n",
      "Collecting scipy\n",
      "  Downloading scipy-1.7.1-cp38-cp38-macosx_10_9_x86_64.whl (32.6 MB)\n",
      "\u001b[K     |████████████████████████████████| 32.6 MB 12.1 MB/s eta 0:00:01     |█████████████████████████████▋  | 30.2 MB 12.1 MB/s eta 0:00:01\n",
      "\u001b[?25hCollecting librosa\n",
      "  Using cached librosa-0.8.1-py3-none-any.whl (203 kB)\n",
      "Collecting pretty_midi\n",
      "  Using cached pretty_midi-0.2.9-py3-none-any.whl\n",
      "Collecting python-osc\n",
      "  Using cached python_osc-1.7.7-py3-none-any.whl (31 kB)\n",
      "Collecting mir_eval\n",
      "  Using cached mir_eval-0.6-py3-none-any.whl\n",
      "Collecting openpyxl\n",
      "  Using cached openpyxl-3.0.7-py2.py3-none-any.whl (243 kB)\n",
      "Requirement already satisfied: python-dateutil>=2.7.3 in /Users/stefanof/opt/anaconda3/envs/MCT4001/lib/python3.8/site-packages (from pandas->-r requirements.txt (line 2)) (2.8.2)\n",
      "Collecting pytz>=2017.3\n",
      "  Using cached pytz-2021.1-py2.py3-none-any.whl (510 kB)\n",
      "Collecting kiwisolver>=1.0.1\n",
      "  Using cached kiwisolver-1.3.1-cp38-cp38-macosx_10_9_x86_64.whl (61 kB)\n",
      "Requirement already satisfied: pyparsing>=2.2.1 in /Users/stefanof/opt/anaconda3/envs/MCT4001/lib/python3.8/site-packages (from matplotlib->-r requirements.txt (line 3)) (2.4.7)\n",
      "Collecting cycler>=0.10\n",
      "  Using cached cycler-0.10.0-py2.py3-none-any.whl (6.5 kB)\n",
      "Collecting pillow>=6.2.0\n",
      "  Using cached Pillow-8.3.1-cp38-cp38-macosx_10_10_x86_64.whl (2.9 MB)\n",
      "Collecting resampy>=0.2.2\n",
      "  Using cached resampy-0.2.2-py3-none-any.whl\n",
      "Collecting joblib>=0.14\n",
      "  Using cached joblib-1.0.1-py3-none-any.whl (303 kB)\n",
      "Collecting pooch>=1.0\n",
      "  Using cached pooch-1.4.0-py3-none-any.whl (51 kB)\n",
      "Collecting scikit-learn!=0.19.0,>=0.14.0\n",
      "  Using cached scikit_learn-0.24.2-cp38-cp38-macosx_10_13_x86_64.whl (7.2 MB)\n",
      "Collecting soundfile>=0.10.2\n",
      "  Using cached SoundFile-0.10.3.post1-py2.py3.cp26.cp27.cp32.cp33.cp34.cp35.cp36.pp27.pp32.pp33-none-macosx_10_5_x86_64.macosx_10_6_intel.macosx_10_9_intel.macosx_10_9_x86_64.whl (613 kB)\n",
      "Requirement already satisfied: packaging>=20.0 in /Users/stefanof/opt/anaconda3/envs/MCT4001/lib/python3.8/site-packages (from librosa->-r requirements.txt (line 5)) (21.0)\n",
      "Requirement already satisfied: decorator>=3.0.0 in /Users/stefanof/opt/anaconda3/envs/MCT4001/lib/python3.8/site-packages (from librosa->-r requirements.txt (line 5)) (5.0.9)\n",
      "Collecting numba>=0.43.0\n",
      "  Using cached numba-0.53.1-cp38-cp38-macosx_10_14_x86_64.whl (2.2 MB)\n",
      "Collecting audioread>=2.0.0\n",
      "  Using cached audioread-2.1.9-py3-none-any.whl\n",
      "Requirement already satisfied: six in /Users/stefanof/opt/anaconda3/envs/MCT4001/lib/python3.8/site-packages (from pretty_midi->-r requirements.txt (line 6)) (1.16.0)\n",
      "Collecting mido>=1.1.16\n",
      "  Using cached mido-1.2.10-py2.py3-none-any.whl (51 kB)\n",
      "Collecting future\n",
      "  Using cached future-0.18.2-py3-none-any.whl\n",
      "Collecting et-xmlfile\n",
      "  Using cached et_xmlfile-1.1.0-py3-none-any.whl (4.7 kB)\n",
      "Requirement already satisfied: setuptools in /Users/stefanof/opt/anaconda3/envs/MCT4001/lib/python3.8/site-packages (from numba>=0.43.0->librosa->-r requirements.txt (line 5)) (49.6.0.post20210108)\n",
      "Collecting llvmlite<0.37,>=0.36.0rc1\n",
      "  Using cached llvmlite-0.36.0-cp38-cp38-macosx_10_9_x86_64.whl (18.5 MB)\n",
      "Collecting appdirs\n",
      "  Using cached appdirs-1.4.4-py2.py3-none-any.whl (9.6 kB)\n",
      "Collecting requests\n",
      "  Using cached requests-2.26.0-py2.py3-none-any.whl (62 kB)\n",
      "Collecting threadpoolctl>=2.0.0\n",
      "  Using cached threadpoolctl-2.2.0-py3-none-any.whl (12 kB)\n",
      "Requirement already satisfied: cffi>=1.0 in /Users/stefanof/opt/anaconda3/envs/MCT4001/lib/python3.8/site-packages (from soundfile>=0.10.2->librosa->-r requirements.txt (line 5)) (1.14.6)\n",
      "Requirement already satisfied: pycparser in /Users/stefanof/opt/anaconda3/envs/MCT4001/lib/python3.8/site-packages (from cffi>=1.0->soundfile>=0.10.2->librosa->-r requirements.txt (line 5)) (2.20)\n",
      "Collecting urllib3<1.27,>=1.21.1\n",
      "  Using cached urllib3-1.26.6-py2.py3-none-any.whl (138 kB)\n",
      "Collecting charset-normalizer~=2.0.0\n",
      "  Downloading charset_normalizer-2.0.4-py3-none-any.whl (36 kB)\n",
      "Collecting idna<4,>=2.5\n",
      "  Using cached idna-3.2-py3-none-any.whl (59 kB)\n",
      "Requirement already satisfied: certifi>=2017.4.17 in /Users/stefanof/opt/anaconda3/envs/MCT4001/lib/python3.8/site-packages (from requests->pooch>=1.0->librosa->-r requirements.txt (line 5)) (2021.5.30)\n",
      "Installing collected packages: urllib3, numpy, llvmlite, idna, charset-normalizer, threadpoolctl, scipy, requests, numba, joblib, appdirs, soundfile, scikit-learn, resampy, pytz, pooch, pillow, mido, kiwisolver, future, et-xmlfile, cycler, audioread, python-osc, pretty-midi, pandas, openpyxl, mir-eval, matplotlib, librosa\n",
      "Successfully installed appdirs-1.4.4 audioread-2.1.9 charset-normalizer-2.0.4 cycler-0.10.0 et-xmlfile-1.1.0 future-0.18.2 idna-3.2 joblib-1.0.1 kiwisolver-1.3.1 librosa-0.8.1 llvmlite-0.36.0 matplotlib-3.4.2 mido-1.2.10 mir-eval-0.6 numba-0.53.1 numpy-1.21.1 openpyxl-3.0.7 pandas-1.3.1 pillow-8.3.1 pooch-1.4.0 pretty-midi-0.2.9 python-osc-1.7.7 pytz-2021.1 requests-2.26.0 resampy-0.2.2 scikit-learn-0.24.2 scipy-1.7.1 soundfile-0.10.3.post1 threadpoolctl-2.2.0 urllib3-1.26.6\n"
     ]
    }
   ],
   "source": [
    "import sys\n",
    "!{sys.executable} -m pip install -r requirements.txt"
   ]
  },
  {
   "cell_type": "code",
   "execution_count": 2,
   "metadata": {},
   "outputs": [
    {
     "name": "stdout",
     "output_type": "stream",
     "text": [
      "Success\n"
     ]
    }
   ],
   "source": [
    "import os\n",
    "import numpy\n",
    "import pandas\n",
    "import matplotlib\n",
    "import scipy\n",
    "import librosa\n",
    "import pretty_midi\n",
    "import pythonosc \n",
    "\n",
    "print(bytearray.fromhex(\"53756363657373\").decode())"
   ]
  },
  {
   "cell_type": "code",
   "execution_count": null,
   "metadata": {},
   "outputs": [],
   "source": []
  }
 ],
 "metadata": {
  "kernelspec": {
   "display_name": "Python 3 (ipykernel)",
   "language": "python",
   "name": "python3"
  },
  "language_info": {
   "codemirror_mode": {
    "name": "ipython",
    "version": 3
   },
   "file_extension": ".py",
   "mimetype": "text/x-python",
   "name": "python",
   "nbconvert_exporter": "python",
   "pygments_lexer": "ipython3",
   "version": "3.8.10"
  }
 },
 "nbformat": 4,
 "nbformat_minor": 4
}
