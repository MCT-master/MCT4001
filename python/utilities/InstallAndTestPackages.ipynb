{
 "cells": [
  {
   "cell_type": "code",
   "execution_count": 1,
   "metadata": {},
   "outputs": [
    {
     "name": "stdout",
     "output_type": "stream",
     "text": [
      "Requirement already satisfied: numpy in /Users/stefanof/opt/anaconda3/lib/python3.9/site-packages (from -r requirements.txt (line 1)) (1.21.5)\n",
      "Requirement already satisfied: pandas in /Users/stefanof/opt/anaconda3/lib/python3.9/site-packages (from -r requirements.txt (line 2)) (1.4.3)\n",
      "Requirement already satisfied: matplotlib in /Users/stefanof/opt/anaconda3/lib/python3.9/site-packages (from -r requirements.txt (line 3)) (3.5.2)\n",
      "Requirement already satisfied: scipy in /Users/stefanof/opt/anaconda3/lib/python3.9/site-packages (from -r requirements.txt (line 4)) (1.7.3)\n",
      "Requirement already satisfied: librosa in /Users/stefanof/opt/anaconda3/lib/python3.9/site-packages (from -r requirements.txt (line 5)) (0.9.2)\n",
      "Requirement already satisfied: pretty_midi in /Users/stefanof/opt/anaconda3/lib/python3.9/site-packages (from -r requirements.txt (line 6)) (0.2.9)\n",
      "Requirement already satisfied: python-osc in /Users/stefanof/opt/anaconda3/lib/python3.9/site-packages (from -r requirements.txt (line 7)) (1.8.0)\n",
      "Requirement already satisfied: mir_eval in /Users/stefanof/opt/anaconda3/lib/python3.9/site-packages (from -r requirements.txt (line 8)) (0.7)\n",
      "Requirement already satisfied: openpyxl in /Users/stefanof/opt/anaconda3/lib/python3.9/site-packages (from -r requirements.txt (line 9)) (3.0.9)\n",
      "Requirement already satisfied: sounddevice in /Users/stefanof/opt/anaconda3/lib/python3.9/site-packages (from -r requirements.txt (line 10)) (0.4.5)\n",
      "Requirement already satisfied: python-dateutil>=2.8.1 in /Users/stefanof/opt/anaconda3/lib/python3.9/site-packages (from pandas->-r requirements.txt (line 2)) (2.8.2)\n",
      "Requirement already satisfied: pytz>=2020.1 in /Users/stefanof/opt/anaconda3/lib/python3.9/site-packages (from pandas->-r requirements.txt (line 2)) (2022.1)\n",
      "Requirement already satisfied: pillow>=6.2.0 in /Users/stefanof/opt/anaconda3/lib/python3.9/site-packages (from matplotlib->-r requirements.txt (line 3)) (9.2.0)\n",
      "Requirement already satisfied: packaging>=20.0 in /Users/stefanof/opt/anaconda3/lib/python3.9/site-packages (from matplotlib->-r requirements.txt (line 3)) (21.3)\n",
      "Requirement already satisfied: cycler>=0.10 in /Users/stefanof/opt/anaconda3/lib/python3.9/site-packages (from matplotlib->-r requirements.txt (line 3)) (0.11.0)\n",
      "Requirement already satisfied: pyparsing>=2.2.1 in /Users/stefanof/opt/anaconda3/lib/python3.9/site-packages (from matplotlib->-r requirements.txt (line 3)) (3.0.9)\n",
      "Requirement already satisfied: fonttools>=4.22.0 in /Users/stefanof/opt/anaconda3/lib/python3.9/site-packages (from matplotlib->-r requirements.txt (line 3)) (4.34.4)\n",
      "Requirement already satisfied: kiwisolver>=1.0.1 in /Users/stefanof/opt/anaconda3/lib/python3.9/site-packages (from matplotlib->-r requirements.txt (line 3)) (1.4.4)\n",
      "Requirement already satisfied: joblib>=0.14 in /Users/stefanof/opt/anaconda3/lib/python3.9/site-packages (from librosa->-r requirements.txt (line 5)) (1.1.0)\n",
      "Requirement already satisfied: soundfile>=0.10.2 in /Users/stefanof/opt/anaconda3/lib/python3.9/site-packages (from librosa->-r requirements.txt (line 5)) (0.10.3.post1)\n",
      "Requirement already satisfied: numba>=0.45.1 in /Users/stefanof/opt/anaconda3/lib/python3.9/site-packages (from librosa->-r requirements.txt (line 5)) (0.55.2)\n",
      "Requirement already satisfied: audioread>=2.1.9 in /Users/stefanof/opt/anaconda3/lib/python3.9/site-packages (from librosa->-r requirements.txt (line 5)) (3.0.0)\n",
      "Requirement already satisfied: pooch>=1.0 in /Users/stefanof/opt/anaconda3/lib/python3.9/site-packages (from librosa->-r requirements.txt (line 5)) (1.6.0)\n",
      "Requirement already satisfied: scikit-learn>=0.19.1 in /Users/stefanof/opt/anaconda3/lib/python3.9/site-packages (from librosa->-r requirements.txt (line 5)) (1.1.1)\n",
      "Requirement already satisfied: resampy>=0.2.2 in /Users/stefanof/opt/anaconda3/lib/python3.9/site-packages (from librosa->-r requirements.txt (line 5)) (0.4.0)\n",
      "Requirement already satisfied: decorator>=4.0.10 in /Users/stefanof/opt/anaconda3/lib/python3.9/site-packages (from librosa->-r requirements.txt (line 5)) (5.1.1)\n",
      "Requirement already satisfied: six in /Users/stefanof/opt/anaconda3/lib/python3.9/site-packages (from pretty_midi->-r requirements.txt (line 6)) (1.16.0)\n",
      "Requirement already satisfied: mido>=1.1.16 in /Users/stefanof/opt/anaconda3/lib/python3.9/site-packages (from pretty_midi->-r requirements.txt (line 6)) (1.2.10)\n",
      "Requirement already satisfied: future in /Users/stefanof/opt/anaconda3/lib/python3.9/site-packages (from mir_eval->-r requirements.txt (line 8)) (0.18.2)\n",
      "Requirement already satisfied: et-xmlfile in /Users/stefanof/opt/anaconda3/lib/python3.9/site-packages (from openpyxl->-r requirements.txt (line 9)) (1.0.1)\n",
      "Requirement already satisfied: CFFI>=1.0 in /Users/stefanof/opt/anaconda3/lib/python3.9/site-packages (from sounddevice->-r requirements.txt (line 10)) (1.15.1)\n",
      "Requirement already satisfied: pycparser in /Users/stefanof/opt/anaconda3/lib/python3.9/site-packages (from CFFI>=1.0->sounddevice->-r requirements.txt (line 10)) (2.21)\n",
      "Requirement already satisfied: llvmlite<0.39,>=0.38.0rc1 in /Users/stefanof/opt/anaconda3/lib/python3.9/site-packages (from numba>=0.45.1->librosa->-r requirements.txt (line 5)) (0.38.1)\n",
      "Requirement already satisfied: setuptools in /Users/stefanof/opt/anaconda3/lib/python3.9/site-packages (from numba>=0.45.1->librosa->-r requirements.txt (line 5)) (63.3.0)\n",
      "Requirement already satisfied: requests>=2.19.0 in /Users/stefanof/opt/anaconda3/lib/python3.9/site-packages (from pooch>=1.0->librosa->-r requirements.txt (line 5)) (2.28.1)\n",
      "Requirement already satisfied: appdirs>=1.3.0 in /Users/stefanof/opt/anaconda3/lib/python3.9/site-packages (from pooch>=1.0->librosa->-r requirements.txt (line 5)) (1.4.4)\n",
      "Requirement already satisfied: threadpoolctl>=2.0.0 in /Users/stefanof/opt/anaconda3/lib/python3.9/site-packages (from scikit-learn>=0.19.1->librosa->-r requirements.txt (line 5)) (3.1.0)\n",
      "Requirement already satisfied: certifi>=2017.4.17 in /Users/stefanof/opt/anaconda3/lib/python3.9/site-packages (from requests>=2.19.0->pooch>=1.0->librosa->-r requirements.txt (line 5)) (2022.6.15)\n",
      "Requirement already satisfied: idna<4,>=2.5 in /Users/stefanof/opt/anaconda3/lib/python3.9/site-packages (from requests>=2.19.0->pooch>=1.0->librosa->-r requirements.txt (line 5)) (3.3)\n",
      "Requirement already satisfied: charset-normalizer<3,>=2 in /Users/stefanof/opt/anaconda3/lib/python3.9/site-packages (from requests>=2.19.0->pooch>=1.0->librosa->-r requirements.txt (line 5)) (2.1.0)\n",
      "Requirement already satisfied: urllib3<1.27,>=1.21.1 in /Users/stefanof/opt/anaconda3/lib/python3.9/site-packages (from requests>=2.19.0->pooch>=1.0->librosa->-r requirements.txt (line 5)) (1.26.11)\n"
     ]
    }
   ],
   "source": [
    "import sys\n",
    "!{sys.executable} -m pip install -r requirements.txt"
   ]
  },
  {
   "cell_type": "code",
   "execution_count": 2,
   "metadata": {},
   "outputs": [
    {
     "name": "stdout",
     "output_type": "stream",
     "text": [
      "Success\n"
     ]
    }
   ],
   "source": [
    "import os\n",
    "import numpy\n",
    "import pandas\n",
    "import matplotlib\n",
    "import scipy\n",
    "import librosa\n",
    "import pretty_midi\n",
    "import pythonosc\n",
    "import sounddevice\n",
    "\n",
    "print(bytearray.fromhex(\"53756363657373\").decode())"
   ]
  }
 ],
 "metadata": {
  "kernelspec": {
   "display_name": "Python 3 (ipykernel)",
   "language": "python",
   "name": "python3"
  },
  "language_info": {
   "codemirror_mode": {
    "name": "ipython",
    "version": 3
   },
   "file_extension": ".py",
   "mimetype": "text/x-python",
   "name": "python",
   "nbconvert_exporter": "python",
   "pygments_lexer": "ipython3",
   "version": "3.9.13"
  }
 },
 "nbformat": 4,
 "nbformat_minor": 4
}
