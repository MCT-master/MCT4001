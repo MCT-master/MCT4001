{
 "cells": [
  {
   "cell_type": "markdown",
   "metadata": {},
   "source": [
    "# MCT4001 Scientific Computing in Python Session 7\n",
    "![mct-banner](https://raw.githubusercontent.com/wiki/MCT-master/Guides/assets/img/mct-banner.jpg)"
   ]
  },
  {
   "cell_type": "code",
   "execution_count": null,
   "metadata": {},
   "outputs": [],
   "source": [
    "# enabling auto completion\n",
    "%config IPCompleter.greedy=True\n",
    "\n",
    "# importing packages\n",
    "import os"
   ]
  },
  {
   "cell_type": "markdown",
   "metadata": {},
   "source": [
    "## 1. Python and Pure Data Integration\n",
    "\n",
    "In order to run the following code cells in on your computer you must update the path to Pure Data executable.\n",
    "\n",
    "In the following cells we simply run Pure Data via [command line](https://puredata.info/docs/faq/commandline). Instead of writing the commands in a terminal, we invoke the terminal commands from python using the os package (in particular os.system()).\n",
    "\n",
    "Before running the cells below, get familiar with the Pure Data patches used in this Jupyter notebook, stored in the folder ./files/puredata/\n",
    "\n",
    "**Known issues**: the following cells should work well on OSX and Linux (you still have to update the Pure Data path for your computer in the next cell). However, on Windows, the *-send* flag may require minor adjustments (e.g. replace single quotes with double quotes or viceversa, etc.)."
   ]
  },
  {
   "cell_type": "code",
   "execution_count": null,
   "metadata": {},
   "outputs": [],
   "source": [
    "# this must be updated to the actual path on your computer\n",
    "pd_executable = '/Applications/Pd-0.52-2.app/Contents/Resources/bin/pd' #for OSX Pd 0.52-2\n",
    "#pd_executable = 'C:\\Program Files\\pd\\bin\\pd.exe' #for Windows\n",
    "#pd_executable = '/usr/local/bin/pd ' #for Linux\n",
    "\n",
    "# running PD - you have to close it manually after running this cell\n",
    "os.system(pd_executable)"
   ]
  },
  {
   "cell_type": "code",
   "execution_count": null,
   "metadata": {},
   "outputs": [],
   "source": [
    "# running 5secSineToDac.pd\n",
    "pd_patch = 'files/puredata/5secSineToDac.pd'\n",
    "command = pd_executable + ' -open ' + pd_patch #for convenience, combining the command in a single string\n",
    "print(command) #checking the correctness of the command string before using it in os.system()\n",
    "os.system(command)"
   ]
  },
  {
   "cell_type": "code",
   "execution_count": null,
   "metadata": {},
   "outputs": [],
   "source": [
    "# running 5secSineToDac.pd without GUI\n",
    "pd_patch = 'files/puredata/5secSineToDac.pd'\n",
    "command = pd_executable + ' -open ' + pd_patch + ' -nogui'\n",
    "print(command)\n",
    "os.system(command)"
   ]
  },
  {
   "cell_type": "code",
   "execution_count": null,
   "metadata": {
    "scrolled": true
   },
   "outputs": [],
   "source": [
    "# running 5secSineToDac.pd without GUI passing frequency value\n",
    "pd_patch = 'files/puredata/5secSineToDacVar.pd'\n",
    "command = pd_executable + ' -open ' + pd_patch + ' -send \"; freqV 1000\"' + ' -nogui'\n",
    "print(command)\n",
    "os.system(command)"
   ]
  },
  {
   "cell_type": "code",
   "execution_count": null,
   "metadata": {},
   "outputs": [],
   "source": [
    "# running 5secSineToWav.pd without GUI\n",
    "pd_patch = 'files/puredata/5secSineToWav.pd'\n",
    "command = pd_executable + ' -open ' + pd_patch + ' -nogui'\n",
    "print(command)\n",
    "os.system(command)"
   ]
  },
  {
   "cell_type": "code",
   "execution_count": null,
   "metadata": {},
   "outputs": [],
   "source": [
    "# running 5secSineToWav.pd without GUI offline as batch process\n",
    "# (i.e. as fast as possible without being bounded by the audio sampling rate)\n",
    "pd_patch = 'files/puredata/5secSineToWav.pd'\n",
    "command = pd_executable + ' -open ' + pd_patch + ' -nogui' + ' -batch'\n",
    "print(command)\n",
    "os.system(command)"
   ]
  },
  {
   "cell_type": "code",
   "execution_count": null,
   "metadata": {},
   "outputs": [],
   "source": [
    "# running SineToWavVar.pd without GUI offline as batch process passing values for frequency, duration and filename\n",
    "pd_patch = 'files/puredata/SineToWavVar.pd'\n",
    "send =  ' -send \"; freqV 5000; nameV myfile.wav; durV 10000\"'\n",
    "command = pd_executable + ' -open ' + pd_patch + send + ' -nogui' + ' -batch'\n",
    "print(command)\n",
    "os.system(command)"
   ]
  },
  {
   "cell_type": "code",
   "execution_count": null,
   "metadata": {},
   "outputs": [],
   "source": [
    "# creating a loop that generate a collection (curpus) of wave files with different frequencies\n",
    "# files be further loaded and processed in Python either within the loop or (better) after the loop\n",
    "pd_patch = 'files/puredata/SineToWavVar.pd'\n",
    "\n",
    "for i in range(100,500,10):\n",
    "    send =  ' -send \"; freqV ' + str(i) + '; nameV out' + str(i) + '.wav; durV 10000\"'\n",
    "    command = pd_executable + ' -open ' + pd_patch + send + ' -nogui' + ' -batch'\n",
    "    print(command)\n",
    "    os.system(command)"
   ]
  },
  {
   "cell_type": "markdown",
   "metadata": {},
   "source": [
    "#### Task 1\n",
    "\n",
    "Take a Pure Data patch you have previously developed. Modify the patch so that it stops after 5 seconds, saves the output audio to a wave file (file name passed from Python), and it can take one argument (one value used for the sound generation, perhaps generated from a random number) from the command line.\n",
    "\n",
    "Run the patch from Python in batch mode. When the Pure Data execution ends, open the generated file with librosa and display the waveform or spectrogram, as well as playback the audio using the IPython display audio widget."
   ]
  },
  {
   "cell_type": "markdown",
   "metadata": {},
   "source": [
    "## 2. Python OSC\n",
    "\n",
    "Documentation available [here](https://python-osc.readthedocs.io/en/latest/).\n",
    "\n",
    "#### Python OSC client example"
   ]
  },
  {
   "cell_type": "code",
   "execution_count": null,
   "metadata": {},
   "outputs": [],
   "source": [
    "# run this cell after openning files/puredata/OSCserver.pd\n",
    "import time\n",
    "from pythonosc import udp_client\n",
    "\n",
    "# creating OSC client that will send messages to 127.0.0.1 or localhost - i.e. same machinne - on port 8002\n",
    "client = udp_client.SimpleUDPClient('127.0.0.1', 8002)\n",
    "\n",
    "for x in range(5):\n",
    "    client.send_message('/my_address', x) #sending the index of the loop with specified OSC address\n",
    "    time.sleep(1) #doig nothing for 1 secod"
   ]
  },
  {
   "cell_type": "markdown",
   "metadata": {},
   "source": [
    "#### Python OSC server example"
   ]
  },
  {
   "cell_type": "code",
   "execution_count": null,
   "metadata": {},
   "outputs": [],
   "source": [
    "# run this cell and then open files/puredata/OSCclient.pd, click on connect and send messages\n",
    "from pythonosc import dispatcher\n",
    "from pythonosc import osc_server\n",
    "\n",
    "# creating a function that will handle the  OSC received data, just printing inn this case\n",
    "def handler(address, args):\n",
    "    print('address is',address)\n",
    "    print('values are')\n",
    "    print(args)\n",
    "    print('')\n",
    "    \n",
    "\n",
    "# attaching the message handling function to the dispatcher\n",
    "dispatcher = dispatcher.Dispatcher()\n",
    "dispatcher.map(\"*\", handler) #with the wildcard * the handler function will handle any message\n",
    "\n",
    "#starting initializing and  starting  the OSC server\n",
    "server = osc_server.ThreadingOSCUDPServer(('127.0.0.1', 8001), dispatcher)\n",
    "print(\"Serving on {}\".format(server.server_address))\n",
    "server.serve_forever()"
   ]
  },
  {
   "cell_type": "code",
   "execution_count": null,
   "metadata": {},
   "outputs": [],
   "source": [
    "# closing the OSC server\n",
    "# if we do not do this, next time we try to create a server listenign on the same port we will get an error\n",
    "server.server_close()"
   ]
  },
  {
   "cell_type": "markdown",
   "metadata": {},
   "source": [
    "#### Python OSC server-client example\n",
    "\n",
    "The following python cell receives data from Pure Data via OSC, process the ddata, and send it back to Pure data via OSC. On both sides, we are using a OSC client and server. "
   ]
  },
  {
   "cell_type": "code",
   "execution_count": null,
   "metadata": {},
   "outputs": [],
   "source": [
    "# run this cell and then open files/puredata/OSCclient-server.pd, click on connect, send messages, and observe messages sent back\n",
    "\n",
    "from pythonosc import dispatcher\n",
    "from pythonosc import udp_client\n",
    "from pythonosc import osc_server\n",
    "from IPython import display\n",
    "import math\n",
    "\n",
    "\n",
    "# creating OSC client that will send messages to 127.0.0.1 or localhost - i.e. same machinne - on port 8002\n",
    "client = udp_client.SimpleUDPClient('127.0.0.1', 8002)\n",
    "\n",
    "\n",
    "# creating a functions that will handle the OSC received data\n",
    "def slider1_handler(address, args):\n",
    "    #display.clear_output(wait=True) #this function simply clears the standard, then we print the most recent received OSC message\n",
    "    #print('S1', args)\n",
    "    out = abs(args-1)\n",
    "    client.send_message('/invslider1', out)\n",
    "    \n",
    "def slider2_handler(address, args):\n",
    "    #display.clear_output(wait=True) #this function simply clears the standard, then we print the most recent received OSC message\n",
    "    #print('S1', args)\n",
    "    out = math.log(1+100*args)/math.log(100)\n",
    "    #print(out)\n",
    "    client.send_message('/logslider2', out)\n",
    "\n",
    "# attaching the message handling function to the dispatcher\n",
    "dispatcher = dispatcher.Dispatcher()\n",
    "dispatcher.map(\"/slider1*\", slider1_handler) #attaching handler to dispatcher\n",
    "dispatcher.map(\"/slider2*\", slider2_handler) #attaching handler to dispatcher\n",
    "\n",
    "# starting initializing and  starting  the OSC server\n",
    "server = osc_server.ThreadingOSCUDPServer(('127.0.0.1', 8001), dispatcher)\n",
    "print(\"Serving on {}\".format(server.server_address))\n",
    "server.serve_forever()\n",
    "    "
   ]
  },
  {
   "cell_type": "code",
   "execution_count": null,
   "metadata": {},
   "outputs": [],
   "source": [
    "# closing the OSC server\n",
    "# if we do not do this, next time we try to create a server listenign on the same port we will get an error\n",
    "server.server_close()"
   ]
  },
  {
   "cell_type": "markdown",
   "metadata": {},
   "source": [
    "#### Task 2\n",
    "\n",
    "Extend the above example to add an extra OSC parameter sent from Pure Data to Python and from Python to Pure Data. This requires to modify the Pure Data patch OSCclient-server.pd as well."
   ]
  },
  {
   "cell_type": "markdown",
   "metadata": {},
   "source": [
    "#### Task 3\n",
    "\n",
    "Work in groups, try to develop from scratch a system which takes any sensor data from your smartphone (e.g. from [Multisense OSC](https://play.google.com/store/apps/details?id=edu.polytechnique.multisense.release&hl=en&gl=US) or [OSChook](https://m.apkpure.com/oschook/com.hollyhook.oscHook) or similar - OSChook must be installed manually, it does not exist on the Playstore), to control anything within a Pure Data patch (it can be as basic as controlling amplitude and pitch of a sinusoidal oscillator). However, data must be sent from the smartphone to Python, which performs some basic processing (can be as simple as an addition and/or multiplication), then Python sends the data to Pure Data, which generates the sound. Alternatively you can opt for a non-realtime application (i.e. generation of  a wave file from Pure Data).\n",
    "\n",
    "\n",
    "Consider running Pure Data and Python on two (or more) separate machines (if connected to UiO VPN or eduroam OSC packets goes through). Ensure (and monitor) that each system can keep up with the rate at which messages are received (i.e. complete the required processing before the next message is received). The rate at which messages are received and passed through the chain depends on the rate at which OSC messages are produced in the smartphone application. You can easily do that using the [time](https://docs.python.org/3/library/time.html) package in Python as described [here](https://stackoverflow.com/questions/7370801/how-do-i-measure-elapsed-time-in-python). Try to change the OSC message rate in the smartphone application and see if the system can still cope with that (by looking at the overall application behavior as well as at the time measurements).\n"
   ]
  },
  {
   "cell_type": "markdown",
   "metadata": {},
   "source": [
    "### Considerations\n",
    "\n",
    "In this notebook we have explored how to run Pure Data patches from Python (at audio rate generating audio signals sent to the soundcard output, as well as in batch mode).\n",
    "\n",
    "If you are interested in doing the opposite, i.e. run Python within Pure Data, you can try using this [package](https://grrrr.org/research/software/py/) and/or simply executing command line instructions from Pure Data. Since Pure Data has strict real-time computation constraints (it has to generate audio samples as a metronome to fill up the output buffer of thesoundcard in a timely manner), it is not a great idea to integrate into it Python computation which may break/compromize such constraints. Calling Python routines from Pure Data in a non-blocking and non-synchronous manner by using communication protocol such as OSC is probably the best solution."
   ]
  },
  {
   "cell_type": "code",
   "execution_count": null,
   "metadata": {},
   "outputs": [],
   "source": []
  }
 ],
 "metadata": {
  "kernelspec": {
   "display_name": "Python 3 (ipykernel)",
   "language": "python",
   "name": "python3"
  },
  "language_info": {
   "codemirror_mode": {
    "name": "ipython",
    "version": 3
   },
   "file_extension": ".py",
   "mimetype": "text/x-python",
   "name": "python",
   "nbconvert_exporter": "python",
   "pygments_lexer": "ipython3",
   "version": "3.9.13"
  }
 },
 "nbformat": 4,
 "nbformat_minor": 4
}
