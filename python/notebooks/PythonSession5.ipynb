{
 "cells": [
  {
   "cell_type": "markdown",
   "metadata": {},
   "source": [
    "# MCT4001 Scientific Computing in Python Session 4\n",
    "![mct-banner](https://raw.githubusercontent.com/wiki/MCT-master/Guides/assets/img/mct-banner.jpg)"
   ]
  },
  {
   "cell_type": "code",
   "execution_count": null,
   "metadata": {},
   "outputs": [],
   "source": [
    "# enabling auto completion\n",
    "%config IPCompleter.greedy=True\n",
    "\n",
    "#importing packages\n",
    "import os"
   ]
  },
  {
   "cell_type": "markdown",
   "metadata": {},
   "source": [
    "## 1. Python and Pure Data Integration\n",
    "\n",
    "In order to run the following code cells in on your computer you must update the path to Pure Data executable."
   ]
  },
  {
   "cell_type": "code",
   "execution_count": null,
   "metadata": {},
   "outputs": [],
   "source": [
    "# this must be updated to the actual path on your computer\n",
    "pd_executable = '/Applications/Pd-0.51-1.app/Contents/Resources/bin/pd' #for OSX Pd 0.51-1\n",
    "#pd_executable = 'C:\\Program Files\\pd\\bin\\pd.exe' #for Windows\n",
    "#pd_executable = '/usr/local/bin/pd ' #for Linux\n",
    "\n",
    "#running PD - you have to close it manually after running this cell\n",
    "os.system(pd_executable)"
   ]
  },
  {
   "cell_type": "code",
   "execution_count": null,
   "metadata": {},
   "outputs": [],
   "source": [
    "#running 5secSineToDac.pd\n",
    "pd_patch = 'files/puredata/5secSineToDac.pd'\n",
    "command = pd_executable + ' -open ' + pd_patch #for convenience, combining the command in a single string\n",
    "print(command) #checking the correctness of the command string before using it in os.system()\n",
    "os.system(command)"
   ]
  },
  {
   "cell_type": "code",
   "execution_count": null,
   "metadata": {},
   "outputs": [],
   "source": [
    "#running 5secSineToDac.pd without GUI\n",
    "pd_patch = 'files/puredata/5secSineToDac.pd'\n",
    "command = pd_executable + ' -open ' + pd_patch + ' -nogui'\n",
    "print(command)\n",
    "os.system(command)"
   ]
  },
  {
   "cell_type": "code",
   "execution_count": null,
   "metadata": {
    "scrolled": true
   },
   "outputs": [],
   "source": [
    "#running 5secSineToDac.pd without GUI passing frequency value\n",
    "pd_patch = 'files/puredata/5secSineToDacVar.pd'\n",
    "command = pd_executable + ' -open ' + pd_patch + ' -send \"; freqV 1000\"' + ' -nogui'\n",
    "print(command)\n",
    "os.system(command)"
   ]
  },
  {
   "cell_type": "code",
   "execution_count": null,
   "metadata": {},
   "outputs": [],
   "source": [
    "#running 5secSineToWav.pd without GUI\n",
    "pd_patch = 'files/puredata/5secSineToWav.pd'\n",
    "command = pd_executable + ' -open ' + pd_patch + ' -nogui'\n",
    "print(command)\n",
    "os.system(command)"
   ]
  },
  {
   "cell_type": "code",
   "execution_count": null,
   "metadata": {},
   "outputs": [],
   "source": [
    "#running 5secSineToWav.pd without GUI offline as batch process\n",
    "pd_patch = 'files/puredata/5secSineToWav.pd'\n",
    "command = pd_executable + ' -open ' + pd_patch + ' -nogui' + ' -batch'\n",
    "print(command)\n",
    "os.system(command)"
   ]
  },
  {
   "cell_type": "code",
   "execution_count": null,
   "metadata": {},
   "outputs": [],
   "source": [
    "#running SineToWavVar.pd without GUI offline as batch process passing values for frequency, duration and filename\n",
    "pd_patch = 'files/puredata/SineToWavVar.pd'\n",
    "send =  ' -send \"; freqV 5000; nameV myfile.wav; durV 10000\"'\n",
    "command = pd_executable + ' -open ' + pd_patch + send + ' -nogui' + ' -batch'\n",
    "print(command)\n",
    "os.system(command)"
   ]
  },
  {
   "cell_type": "code",
   "execution_count": null,
   "metadata": {},
   "outputs": [],
   "source": [
    "#creating a loop that generate a collection of wave files with different frequencies\n",
    "#files be further loaded and processed in Python either within the loop or (better) after the loop\n",
    "pd_patch = 'files/puredata/SineToWavVar.pd'\n",
    "\n",
    "for i in range(100,500,10):\n",
    "    send =  ' -send \"; freqV ' + str(i) + '; nameV out' + str(i) + '.wav; durV 10000\"'\n",
    "    command = pd_executable + ' -open ' + pd_patch + send + ' -nogui' + ' -batch'\n",
    "    #print(command)\n",
    "    os.system(command)"
   ]
  },
  {
   "cell_type": "markdown",
   "metadata": {},
   "source": [
    "## 2. Python OSC\n",
    "\n",
    "#### Python OSC client example"
   ]
  },
  {
   "cell_type": "code",
   "execution_count": null,
   "metadata": {},
   "outputs": [],
   "source": [
    "#run this cell after openning files/puredata/OSCserver.pd\n",
    "import time\n",
    "from pythonosc import udp_client\n",
    "\n",
    "#creating OSC client that will send messages to 127.0.0.1 or localhost - i.e. same machinne - on port 8002\n",
    "client = udp_client.SimpleUDPClient('127.0.0.1', 8002)\n",
    "\n",
    "for x in range(5):\n",
    "    client.send_message('/my_address', x) #sending the index of the loop with specified OSC address\n",
    "    time.sleep(1) #doig nothing for 1 secod"
   ]
  },
  {
   "cell_type": "markdown",
   "metadata": {},
   "source": [
    "#### Python OSC server example"
   ]
  },
  {
   "cell_type": "code",
   "execution_count": null,
   "metadata": {},
   "outputs": [],
   "source": [
    "#run this cell and then open files/puredata/OSCclient.pd, click on connect and send messages\n",
    "from pythonosc import dispatcher\n",
    "from pythonosc import osc_server\n",
    "\n",
    "#creating a function that will handle the  OSC received data, just printing inn this case\n",
    "def handler(address, args):\n",
    "    print('address is',address)\n",
    "    print('values are')\n",
    "    print(args)\n",
    "    print('')\n",
    "    \n",
    "\n",
    "#attaching the message handling function to the dispatcher\n",
    "dispatcher = dispatcher.Dispatcher()\n",
    "dispatcher.map(\"*\", handler) #with the wildcard * the handler function will handle any message\n",
    "\n",
    "#starting initializing and  starting  the OSC server\n",
    "server = osc_server.ThreadingOSCUDPServer(('127.0.0.1', 8001), dispatcher)\n",
    "print(\"Serving on {}\".format(server.server_address))\n",
    "server.serve_forever()"
   ]
  },
  {
   "cell_type": "code",
   "execution_count": null,
   "metadata": {},
   "outputs": [],
   "source": [
    "#closing the OSC server\n",
    "#if we do not do this, next time we try to create a server listenign on the same port we will get an error\n",
    "server.server_close()"
   ]
  },
  {
   "cell_type": "markdown",
   "metadata": {},
   "source": [
    "#### Python OSC server-client example\n",
    "\n",
    "The following python cell receives data from Pure Data via OSC, process the ddata, and send it back to Pure data via OSC. On both sides, we are using a OSC client and server. "
   ]
  },
  {
   "cell_type": "code",
   "execution_count": null,
   "metadata": {},
   "outputs": [],
   "source": [
    "#run this cell and then open files/puredata/OSCclient-server.pd, click on connect, send messages, and observe messages sent back\n",
    "\n",
    "from pythonosc import dispatcher\n",
    "from pythonosc import udp_client\n",
    "from pythonosc import osc_server\n",
    "from IPython import display\n",
    "import math\n",
    "\n",
    "\n",
    "#creating OSC client that will send messages to 127.0.0.1 or localhost - i.e. same machinne - on port 8002\n",
    "client = udp_client.SimpleUDPClient('127.0.0.1', 8002)\n",
    "\n",
    "\n",
    "#creating a functions that will handle the OSC received data\n",
    "def slider1_handler(address, args):\n",
    "    #display.clear_output(wait=True) #this function simply clears the standard, then we print the most recent received OSC message\n",
    "    #print('S1', args)\n",
    "    out = abs(args-1)\n",
    "    client.send_message('/invslider1', out)\n",
    "    \n",
    "def slider2_handler(address, args):\n",
    "    #display.clear_output(wait=True) #this function simply clears the standard, then we print the most recent received OSC message\n",
    "    #print('S1', args)\n",
    "    out = math.log(1+100*args)/math.log(100)\n",
    "    #print(out)\n",
    "    client.send_message('/logslider2', out)\n",
    "\n",
    "#attaching the message handling function to the dispatcher\n",
    "dispatcher = dispatcher.Dispatcher()\n",
    "dispatcher.map(\"/slider1*\", slider1_handler) #attaching handler to dispatcher\n",
    "dispatcher.map(\"/slider2*\", slider2_handler) #attaching handler to dispatcher\n",
    "\n",
    "#starting initializing and  starting  the OSC server\n",
    "server = osc_server.ThreadingOSCUDPServer(('127.0.0.1', 8001), dispatcher)\n",
    "print(\"Serving on {}\".format(server.server_address))\n",
    "server.serve_forever()\n",
    "    "
   ]
  },
  {
   "cell_type": "code",
   "execution_count": null,
   "metadata": {},
   "outputs": [],
   "source": [
    "#closing the OSC server\n",
    "#if we do not do this, next time we try to create a server listenign on the same port we will get an error\n",
    "server.server_close()"
   ]
  },
  {
   "cell_type": "code",
   "execution_count": null,
   "metadata": {},
   "outputs": [],
   "source": []
  }
 ],
 "metadata": {
  "kernelspec": {
   "display_name": "Python 3 (ipykernel)",
   "language": "python",
   "name": "python3"
  },
  "language_info": {
   "codemirror_mode": {
    "name": "ipython",
    "version": 3
   },
   "file_extension": ".py",
   "mimetype": "text/x-python",
   "name": "python",
   "nbconvert_exporter": "python",
   "pygments_lexer": "ipython3",
   "version": "3.8.10"
  }
 },
 "nbformat": 4,
 "nbformat_minor": 4
}
